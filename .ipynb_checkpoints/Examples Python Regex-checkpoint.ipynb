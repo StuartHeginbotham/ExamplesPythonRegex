{
 "cells": [
  {
   "cell_type": "code",
   "execution_count": 1,
   "metadata": {
    "collapsed": true
   },
   "outputs": [],
   "source": [
    "# Initally based on Automating the Boring Stuff with Python - Al Sweigart - 2015\n",
    "# Tested on Python 3.6 , Anaconda Custom\n",
    "# Stuart Heginnbotham, 2018/01/15"
   ]
  },
  {
   "cell_type": "markdown",
   "metadata": {},
   "source": [
    "### Import Regex module"
   ]
  },
  {
   "cell_type": "code",
   "execution_count": 2,
   "metadata": {
    "collapsed": true
   },
   "outputs": [],
   "source": [
    "import re"
   ]
  },
  {
   "cell_type": "markdown",
   "metadata": {},
   "source": [
    "### Search for telephone number pattern"
   ]
  },
  {
   "cell_type": "code",
   "execution_count": 3,
   "metadata": {},
   "outputs": [
    {
     "data": {
      "text/plain": [
       "<_sre.SRE_Match object; span=(13, 25), match='455-747-3456'>"
      ]
     },
     "execution_count": 3,
     "metadata": {},
     "output_type": "execute_result"
    }
   ],
   "source": [
    "phoneNumRegex=re.compile('\\d\\d\\d-\\d\\d\\d-\\d\\d\\d\\d')\n",
    "phoneNumRegex.search('My number if 455-747-3456')\n",
    "# test recommends \"phoneNumRegex.search(r'My number if 455-747-3456')\" but\n",
    "#       the r (for raw string) does not seem to make a difference so ommitted"
   ]
  },
  {
   "cell_type": "markdown",
   "metadata": {},
   "source": [
    "#### retrieve match info"
   ]
  },
  {
   "cell_type": "code",
   "execution_count": 9,
   "metadata": {},
   "outputs": [
    {
     "name": "stdout",
     "output_type": "stream",
     "text": [
      "455-747-3456\n",
      "(13, 25)\n",
      "13\n",
      "25\n"
     ]
    }
   ],
   "source": [
    "phoneNumRegex=re.compile('\\d\\d\\d-\\d\\d\\d-\\d\\d\\d\\d')\n",
    "result=phoneNumRegex.search('My number if 455-747-3456')\n",
    "print(result.group())\n",
    "print(result.span())\n",
    "print(result.span()[0])\n",
    "print(result.span()[1])"
   ]
  },
  {
   "cell_type": "markdown",
   "metadata": {},
   "source": [
    "#### add groups"
   ]
  },
  {
   "cell_type": "code",
   "execution_count": 20,
   "metadata": {},
   "outputs": [
    {
     "data": {
      "text/plain": [
       "'455'"
      ]
     },
     "execution_count": 20,
     "metadata": {},
     "output_type": "execute_result"
    }
   ],
   "source": [
    "phoneNumRegex=re.compile('(\\d\\d\\d)-(\\d\\d\\d-\\d\\d\\d\\d)')\n",
    "result=phoneNumRegex.search('My number if 455-747-3456')\n",
    "result.group(1) #group(0),group(1), group(2),groups()"
   ]
  },
  {
   "cell_type": "markdown",
   "metadata": {},
   "source": [
    "### Match multiple groups"
   ]
  },
  {
   "cell_type": "code",
   "execution_count": 24,
   "metadata": {},
   "outputs": [
    {
     "name": "stdout",
     "output_type": "stream",
     "text": [
      "<_sre.SRE_Match object; span=(0, 6), match='Batman'>\n",
      "<_sre.SRE_Match object; span=(0, 8), match='Tina Fey'>\n",
      "['Batman', 'Tina Fey']\n"
     ]
    }
   ],
   "source": [
    "heroRegex=re.compile('Batman|Tina Fey')\n",
    "result1=heroRegex.search('Batman and Tina Fey.')\n",
    "result2=heroRegex.search('Tina Fey and Batman.')\n",
    "result3=heroRegex.findall('Batman and Tina Fey.')\n",
    "print(result1)\n",
    "print(result2)\n",
    "print(result3)"
   ]
  },
  {
   "cell_type": "code",
   "execution_count": 27,
   "metadata": {},
   "outputs": [
    {
     "name": "stdout",
     "output_type": "stream",
     "text": [
      "<_sre.SRE_Match object; span=(0, 9), match='Batmobile'>\n",
      "mobile\n"
     ]
    }
   ],
   "source": [
    "batRegex=re.compile('Bat(man|mobile|copter|bat)')\n",
    "result=batRegex.search('Batmobile lost a wheel')\n",
    "print(result)\n",
    "print(result.group(1))"
   ]
  },
  {
   "cell_type": "markdown",
   "metadata": {},
   "source": [
    "### Optional match"
   ]
  },
  {
   "cell_type": "code",
   "execution_count": 46,
   "metadata": {},
   "outputs": [
    {
     "name": "stdout",
     "output_type": "stream",
     "text": [
      "<_sre.SRE_Match object; span=(19, 25), match='Batman'>\n",
      "<_sre.SRE_Match object; span=(17, 25), match='Batwoman'>\n"
     ]
    }
   ],
   "source": [
    "batRegex=re.compile('Bat(wo)?man')\n",
    "result1=batRegex.search('The Adventuresm of Batman')\n",
    "print(result1)\n",
    "result2=batRegex.search('The Adventure of Batwoman')\n",
    "print(result2)"
   ]
  },
  {
   "cell_type": "code",
   "execution_count": 43,
   "metadata": {},
   "outputs": [
    {
     "name": "stdout",
     "output_type": "stream",
     "text": [
      "<_sre.SRE_Match object; span=(13, 25), match='444-444-4444'>\n",
      "<_sre.SRE_Match object; span=(13, 21), match='444-4444'>\n"
     ]
    }
   ],
   "source": [
    "phoneNumRegex=re.compile('(\\d\\d\\d-)?\\d\\d\\d-\\d\\d\\d\\d')\n",
    "result1=phoneNumRegex.search('My number if 444-444-4444')\n",
    "result2=phoneNumRegex.search('My number if 444-4444')\n",
    "print(result1)\n",
    "print(result2)\n",
    "\n",
    "# match actual question mark \\?"
   ]
  },
  {
   "cell_type": "markdown",
   "metadata": {},
   "source": [
    "### Matching Zero of More"
   ]
  },
  {
   "cell_type": "code",
   "execution_count": 48,
   "metadata": {},
   "outputs": [
    {
     "name": "stdout",
     "output_type": "stream",
     "text": [
      "<_sre.SRE_Match object; span=(17, 23), match='Batman'>\n",
      "<_sre.SRE_Match object; span=(17, 25), match='Batwoman'>\n",
      "<_sre.SRE_Match object; span=(17, 31), match='Batwowowowoman'>\n"
     ]
    }
   ],
   "source": [
    "t1='TheAdventures of Batman'\n",
    "t2='TheAdventures of Batwoman'\n",
    "t3='TheAdventures of Batwowowowoman'\n",
    "\n",
    "batRegex=re.compile('Bat(wo)*man')\n",
    "result1=batRegex.search(t1)\n",
    "result2=batRegex.search(t2)\n",
    "result3=batRegex.search(t3)\n",
    "\n",
    "print(result1)\n",
    "print(result2)\n",
    "print(result3)"
   ]
  },
  {
   "cell_type": "markdown",
   "metadata": {},
   "source": [
    "### Matching one or more"
   ]
  },
  {
   "cell_type": "code",
   "execution_count": 49,
   "metadata": {},
   "outputs": [
    {
     "name": "stdout",
     "output_type": "stream",
     "text": [
      "None\n",
      "<_sre.SRE_Match object; span=(17, 25), match='Batwoman'>\n",
      "<_sre.SRE_Match object; span=(17, 31), match='Batwowowowoman'>\n"
     ]
    }
   ],
   "source": [
    "t1='TheAdventures of Batman'\n",
    "t2='TheAdventures of Batwoman'\n",
    "t3='TheAdventures of Batwowowowoman'\n",
    "\n",
    "batRegex=re.compile('Bat(wo)+man')\n",
    "result1=batRegex.search(t1)\n",
    "result2=batRegex.search(t2)\n",
    "result3=batRegex.search(t3)\n",
    "\n",
    "print(result1)\n",
    "print(result2)\n",
    "print(result3)"
   ]
  },
  {
   "cell_type": "markdown",
   "metadata": {},
   "source": [
    "### Matching Specific Repetitions"
   ]
  },
  {
   "cell_type": "code",
   "execution_count": 55,
   "metadata": {},
   "outputs": [
    {
     "name": "stdout",
     "output_type": "stream",
     "text": [
      "<_sre.SRE_Match object; span=(0, 6), match='HaHaHa'>\n",
      "None\n",
      "<_sre.SRE_Match object; span=(0, 6), match='HaHaHa'>\n"
     ]
    }
   ],
   "source": [
    "haRegex=re.compile('(Ha){3}')\n",
    "result1=haRegex.search('HaHaHa')\n",
    "result2=haRegex.search('Ha')\n",
    "result3=haRegex.search('HaHaHaHaHa')\n",
    "print(result1)\n",
    "print(result2)\n",
    "print(result3)"
   ]
  },
  {
   "cell_type": "markdown",
   "metadata": {},
   "source": [
    "### Greedy and Nongreedy matching"
   ]
  },
  {
   "cell_type": "code",
   "execution_count": 59,
   "metadata": {},
   "outputs": [
    {
     "name": "stdout",
     "output_type": "stream",
     "text": [
      "<_sre.SRE_Match object; span=(0, 10), match='HaHaHaHaHa'>\n",
      "<_sre.SRE_Match object; span=(0, 6), match='HaHaHa'>\n"
     ]
    }
   ],
   "source": [
    "t1='HaHaHaHaHa'\n",
    "\n",
    "greedyHaRegex=re.compile('(Ha){3,5}')\n",
    "result1=greedyHaRegex.search(t1)\n",
    "\n",
    "nongreedyHaRegex=re.compile('(Ha){3,5}?')\n",
    "result2=nongreedyHaRegex.search(t1)\n",
    "\n",
    "print(result1)\n",
    "print(result2)"
   ]
  },
  {
   "cell_type": "markdown",
   "metadata": {},
   "source": [
    "### findall()"
   ]
  },
  {
   "cell_type": "code",
   "execution_count": 61,
   "metadata": {},
   "outputs": [
    {
     "data": {
      "text/plain": [
       "['355-234-3645', '212-345-9876']"
      ]
     },
     "execution_count": 61,
     "metadata": {},
     "output_type": "execute_result"
    }
   ],
   "source": [
    "phoneNumRegex=re.compile('\\d\\d\\d-\\d\\d\\d-\\d\\d\\d\\d')\n",
    "phoneNumRegex.findall('cell:355-234-3645 Work: 212-345-9876')"
   ]
  },
  {
   "cell_type": "code",
   "execution_count": 62,
   "metadata": {},
   "outputs": [
    {
     "data": {
      "text/plain": [
       "[('355', '234', '3645'), ('212', '345', '9876')]"
      ]
     },
     "execution_count": 62,
     "metadata": {},
     "output_type": "execute_result"
    }
   ],
   "source": [
    "phoneNumRegex=re.compile('(\\d\\d\\d)-(\\d\\d\\d)-(\\d\\d\\d\\d)')\n",
    "phoneNumRegex.findall('cell:355-234-3645 Work: 212-345-9876')"
   ]
  },
  {
   "cell_type": "markdown",
   "metadata": {},
   "source": [
    "### Character Classes\n",
    "\n",
    "\\d 0-9 i.e digit  \n",
    "\\D Any character not digit  \n",
    "\\w Any letter, digit or underscore (word)  \n",
    "\\W Not letter, digit or underscore  \n",
    "\\s Any space, tab or newline character (space)  \n",
    "\\S Not space, tab or newline character  "
   ]
  },
  {
   "cell_type": "code",
   "execution_count": 63,
   "metadata": {},
   "outputs": [
    {
     "data": {
      "text/plain": [
       "['12 drummer',\n",
       " '11 pipers',\n",
       " '10 lords',\n",
       " '9 ladies',\n",
       " '8 maids',\n",
       " '7 swans',\n",
       " '6 geese',\n",
       " '5 rings',\n",
       " '4 birds',\n",
       " '3 hens',\n",
       " '2 doves',\n",
       " '1 partidge']"
      ]
     },
     "execution_count": 63,
     "metadata": {},
     "output_type": "execute_result"
    }
   ],
   "source": [
    "xmasRegex=re.compile('\\d+\\s\\w+')\n",
    "xmasRegex.findall('12 drummer, 11 pipers, 10 lords, 9 ladies, 8 maids, 7 swans, 6 geese, 5 rings, 4 birds, 3 hens, 2 doves, 1 partidge')"
   ]
  },
  {
   "cell_type": "markdown",
   "metadata": {},
   "source": [
    "### Own character classes\n"
   ]
  },
  {
   "cell_type": "code",
   "execution_count": 64,
   "metadata": {},
   "outputs": [
    {
     "data": {
      "text/plain": [
       "['o', 'o', 'o', 'e', 'a', 'a', 'o', 'o', 'A', 'O', 'O']"
      ]
     },
     "execution_count": 64,
     "metadata": {},
     "output_type": "execute_result"
    }
   ],
   "source": [
    "vowelRegex=re.compile('[aeiouAEIOU]')\n",
    "vowelRegex.findall('Robocop eats baby food. BABY FOOD')"
   ]
  },
  {
   "cell_type": "code",
   "execution_count": 66,
   "metadata": {},
   "outputs": [
    {
     "data": {
      "text/plain": [
       "['R',\n",
       " 'b',\n",
       " 'c',\n",
       " 'p',\n",
       " ' ',\n",
       " 't',\n",
       " 's',\n",
       " ' ',\n",
       " 'b',\n",
       " 'b',\n",
       " 'y',\n",
       " ' ',\n",
       " 'f',\n",
       " 'd',\n",
       " '.',\n",
       " ' ',\n",
       " 'B',\n",
       " 'B',\n",
       " 'Y',\n",
       " ' ',\n",
       " 'F',\n",
       " 'D']"
      ]
     },
     "execution_count": 66,
     "metadata": {},
     "output_type": "execute_result"
    }
   ],
   "source": [
    "notVowelRegex=re.compile('[^aeiouAEIOU]')\n",
    "notVowelRegex.findall('Robocop eats baby food. BABY FOOD')"
   ]
  },
  {
   "cell_type": "markdown",
   "metadata": {},
   "source": [
    "### Match to \"end of line\" or \"begining of line\""
   ]
  },
  {
   "cell_type": "markdown",
   "metadata": {},
   "source": [
    "#### begins with hello"
   ]
  },
  {
   "cell_type": "code",
   "execution_count": 69,
   "metadata": {},
   "outputs": [
    {
     "data": {
      "text/plain": [
       "<_sre.SRE_Match object; span=(0, 5), match='Hello'>"
      ]
     },
     "execution_count": 69,
     "metadata": {},
     "output_type": "execute_result"
    }
   ],
   "source": [
    "beginsWithHello=re.compile('^Hello')\n",
    "beginsWithHello.search('Hello World!')"
   ]
  },
  {
   "cell_type": "markdown",
   "metadata": {},
   "source": [
    "#### ends with number"
   ]
  },
  {
   "cell_type": "code",
   "execution_count": 70,
   "metadata": {},
   "outputs": [
    {
     "data": {
      "text/plain": [
       "<_sre.SRE_Match object; span=(16, 17), match='2'>"
      ]
     },
     "execution_count": 70,
     "metadata": {},
     "output_type": "execute_result"
    }
   ],
   "source": [
    "endsWithNumber=re.compile('\\d$')\n",
    "endsWithNumber.search('Your number is 42')"
   ]
  },
  {
   "cell_type": "markdown",
   "metadata": {},
   "source": [
    "#### begins and ends with number"
   ]
  },
  {
   "cell_type": "code",
   "execution_count": 72,
   "metadata": {},
   "outputs": [
    {
     "name": "stdout",
     "output_type": "stream",
     "text": [
      "<_sre.SRE_Match object; span=(0, 10), match='1234567890'>\n",
      "None\n"
     ]
    }
   ],
   "source": [
    "t1='1234567890'\n",
    "t2='12345 67890'\n",
    "wholeStringIsNum=re.compile('^\\d+$')\n",
    "result1=wholeStringIsNum.search(t1)\n",
    "result2=wholeStringIsNum.search(t2)\n",
    "print(result1)\n",
    "print(result2)"
   ]
  },
  {
   "cell_type": "markdown",
   "metadata": {},
   "source": [
    "### Match everything"
   ]
  },
  {
   "cell_type": "code",
   "execution_count": 76,
   "metadata": {},
   "outputs": [
    {
     "name": "stdout",
     "output_type": "stream",
     "text": [
      "Al\n",
      "Sweigart\n"
     ]
    }
   ],
   "source": [
    "nameRegex=re.compile('First Name: (.*) Last Name: (.*)')\n",
    "print(nameRegex.search('First Name: Al Last Name: Sweigart').group(1))\n",
    "print(nameRegex.search('First Name: Al Last Name: Sweigart').group(2))"
   ]
  },
  {
   "cell_type": "markdown",
   "metadata": {},
   "source": [
    "### Matching Newlines"
   ]
  },
  {
   "cell_type": "code",
   "execution_count": 77,
   "metadata": {},
   "outputs": [
    {
     "data": {
      "text/plain": [
       "'Serve the public trust.'"
      ]
     },
     "execution_count": 77,
     "metadata": {},
     "output_type": "execute_result"
    }
   ],
   "source": [
    "noNewlineRegex=re.compile('.*')\n",
    "noNewlineRegex.search('Serve the public trust.\\nProtect the innocent.\\nUphold the law').group()"
   ]
  },
  {
   "cell_type": "code",
   "execution_count": 78,
   "metadata": {},
   "outputs": [
    {
     "data": {
      "text/plain": [
       "'Serve the public trust.\\nProtect the innocent.\\nUphold the law'"
      ]
     },
     "execution_count": 78,
     "metadata": {},
     "output_type": "execute_result"
    }
   ],
   "source": [
    "noNewlineRegex=re.compile('.*',re.DOTALL)\n",
    "noNewlineRegex.search('Serve the public trust.\\nProtect the innocent.\\nUphold the law').group()"
   ]
  },
  {
   "cell_type": "markdown",
   "metadata": {},
   "source": [
    "### Case Insensitive Matching"
   ]
  },
  {
   "cell_type": "code",
   "execution_count": null,
   "metadata": {
    "collapsed": true
   },
   "outputs": [],
   "source": [
    "# all match different strings\n",
    "re1=re.compile('Robocop')\n",
    "re2=re.compile('ROBOCOP')\n",
    "re3=re.compile('robOcop')\n",
    "re4=re.compile('RobocOp')"
   ]
  },
  {
   "cell_type": "code",
   "execution_count": 82,
   "metadata": {},
   "outputs": [
    {
     "name": "stdout",
     "output_type": "stream",
     "text": [
      "Robocop\n",
      "ROBOCOP\n",
      "robocop\n"
     ]
    }
   ],
   "source": [
    "robocop=re.compile('robocop',re.I)\n",
    "print(robocop.search('Robocop is part man, part machine, all cop').group())\n",
    "print(robocop.search('ROBOCOP protects the innocent.').group())\n",
    "print(robocop.search('Al, why does your programming book talk about robocop so much').group())"
   ]
  },
  {
   "cell_type": "markdown",
   "metadata": {},
   "source": [
    "### Substring strings"
   ]
  },
  {
   "cell_type": "code",
   "execution_count": 85,
   "metadata": {},
   "outputs": [
    {
     "data": {
      "text/plain": [
       "'****** gave the secret documents to ******.'"
      ]
     },
     "execution_count": 85,
     "metadata": {},
     "output_type": "execute_result"
    }
   ],
   "source": [
    "namesRegex=re.compile('Agent \\w+')\n",
    "namesRegex.sub('******','Agent Alice gave the secret documents to Agent Bob.')"
   ]
  },
  {
   "cell_type": "code",
   "execution_count": null,
   "metadata": {
    "collapsed": true
   },
   "outputs": [],
   "source": []
  }
 ],
 "metadata": {
  "kernelspec": {
   "display_name": "Python 3",
   "language": "python",
   "name": "python3"
  },
  "language_info": {
   "codemirror_mode": {
    "name": "ipython",
    "version": 3
   },
   "file_extension": ".py",
   "mimetype": "text/x-python",
   "name": "python",
   "nbconvert_exporter": "python",
   "pygments_lexer": "ipython3",
   "version": "3.6.3"
  }
 },
 "nbformat": 4,
 "nbformat_minor": 2
}
